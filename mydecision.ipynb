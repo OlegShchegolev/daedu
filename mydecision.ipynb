{
 "cells": [
  {
   "cell_type": "code",
   "execution_count": 4,
   "metadata": {},
   "outputs": [],
   "source": [
    "# we don't like warnings\n",
    "# you can comment the following 2 lines if you'd like to\n",
    "import warnings\n",
    "warnings.filterwarnings('ignore')\n",
    "\n",
    "%matplotlib inline\n",
    "from matplotlib import pyplot as plt\n",
    "import seaborn as sns\n",
    "\n",
    "import numpy as np\n",
    "import pandas as pd\n",
    "from sklearn.preprocessing import PolynomialFeatures\n",
    "from sklearn.linear_model import LogisticRegression, LogisticRegressionCV, SGDClassifier\n",
    "from sklearn.model_selection import cross_val_score, StratifiedKFold\n",
    "from sklearn.model_selection import GridSearchCV\n",
    "from sklearn.preprocessing import StandardScaler\n",
    "from sklearn.model_selection import validation_curve, learning_curve\n",
    "from sklearn.model_selection import train_test_split\n",
    "from sklearn.metrics import roc_auc_score"
   ]
  },
  {
   "cell_type": "code",
   "execution_count": null,
   "metadata": {},
   "outputs": [],
   "source": [
    "# loading data\n",
    "data = pd.read_csv('train.csv',\n",
    "                   header=None, names = range(30))\n",
    "test = pd.read_csv('test.csv',\n",
    "                   header=None, names = range(30))\n",
    "# getting some info about dataframe\n",
    "y = pd.read_csv('train-target.csv',\n",
    "                   header=None, names=['a'])"
   ]
  },
  {
   "cell_type": "code",
   "execution_count": null,
   "metadata": {},
   "outputs": [],
   "source": [
    "X, y, Xtest = data.values, y.values, test.values"
   ]
  },
  {
   "cell_type": "code",
   "execution_count": null,
   "metadata": {},
   "outputs": [],
   "source": [
    "print(X, y, Xtest)"
   ]
  },
  {
   "cell_type": "code",
   "execution_count": 2,
   "metadata": {},
   "outputs": [
    {
     "ename": "NameError",
     "evalue": "name 'X' is not defined",
     "output_type": "error",
     "traceback": [
      "\u001b[0;31m---------------------------------------------------------------------------\u001b[0m",
      "\u001b[0;31mNameError\u001b[0m                                 Traceback (most recent call last)",
      "\u001b[0;32m<ipython-input-2-cdb40c79a5db>\u001b[0m in \u001b[0;36m<module>\u001b[0;34m\u001b[0m\n\u001b[1;32m     26\u001b[0m     \u001b[0mplt\u001b[0m\u001b[0;34m.\u001b[0m\u001b[0mgrid\u001b[0m\u001b[0;34m(\u001b[0m\u001b[0;32mTrue\u001b[0m\u001b[0;34m)\u001b[0m\u001b[0;34m;\u001b[0m\u001b[0;34m\u001b[0m\u001b[0;34m\u001b[0m\u001b[0m\n\u001b[1;32m     27\u001b[0m \u001b[0;34m\u001b[0m\u001b[0m\n\u001b[0;32m---> 28\u001b[0;31m \u001b[0mplot_learning_curve\u001b[0m\u001b[0;34m(\u001b[0m\u001b[0mdegree\u001b[0m\u001b[0;34m=\u001b[0m\u001b[0;36m2\u001b[0m\u001b[0;34m,\u001b[0m \u001b[0malpha\u001b[0m\u001b[0;34m=\u001b[0m\u001b[0;36m0.1\u001b[0m\u001b[0;34m)\u001b[0m\u001b[0;34m\u001b[0m\u001b[0;34m\u001b[0m\u001b[0m\n\u001b[0m",
      "\u001b[0;32m<ipython-input-2-cdb40c79a5db>\u001b[0m in \u001b[0;36mplot_learning_curve\u001b[0;34m(degree, alpha)\u001b[0m\n\u001b[1;32m     17\u001b[0m                            ('sgd_logit', SGDClassifier(n_jobs=-1, random_state=17, alpha=alpha, max_iter=5))])\n\u001b[1;32m     18\u001b[0m     N_train, val_train, val_test = learning_curve(logit_pipe,\n\u001b[0;32m---> 19\u001b[0;31m                                                   \u001b[0mX\u001b[0m\u001b[0;34m,\u001b[0m \u001b[0my\u001b[0m\u001b[0;34m,\u001b[0m \u001b[0mtrain_sizes\u001b[0m\u001b[0;34m=\u001b[0m\u001b[0mtrain_sizes\u001b[0m\u001b[0;34m,\u001b[0m \u001b[0mcv\u001b[0m\u001b[0;34m=\u001b[0m\u001b[0;36m5\u001b[0m\u001b[0;34m,\u001b[0m\u001b[0;34m\u001b[0m\u001b[0;34m\u001b[0m\u001b[0m\n\u001b[0m\u001b[1;32m     20\u001b[0m                                                   scoring='roc_auc')\n\u001b[1;32m     21\u001b[0m     \u001b[0mplt\u001b[0m\u001b[0;34m.\u001b[0m\u001b[0mfigure\u001b[0m\u001b[0;34m(\u001b[0m\u001b[0mfigsize\u001b[0m\u001b[0;34m=\u001b[0m\u001b[0;34m(\u001b[0m\u001b[0;36m18\u001b[0m\u001b[0;34m,\u001b[0m\u001b[0;36m10\u001b[0m\u001b[0;34m)\u001b[0m\u001b[0;34m)\u001b[0m\u001b[0;34m\u001b[0m\u001b[0;34m\u001b[0m\u001b[0m\n",
      "\u001b[0;31mNameError\u001b[0m: name 'X' is not defined"
     ]
    }
   ],
   "source": [
    "from sklearn.preprocessing import PolynomialFeatures\n",
    "from sklearn.pipeline import Pipeline\n",
    "\n",
    "logit_pipe = Pipeline([('poly', PolynomialFeatures(degree=2)), \n",
    "                       ('logit', LogisticRegression(solver='lbfgs' ))])\n",
    "\n",
    "def plot_with_err(x, data, **kwargs):\n",
    "    mu, std = data.mean(1), data.std(1)\n",
    "    lines = plt.plot(x, mu, '-', **kwargs)\n",
    "    plt.fill_between(x, mu - std, mu + std, edgecolor='none',\n",
    "                     facecolor=lines[0].get_color(), alpha=0.2)\n",
    "\n",
    "\n",
    "def plot_learning_curve(degree=2, alpha=0.01):\n",
    "    train_sizes = np.linspace(0.05, 1, 20)\n",
    "    logit_pipe = Pipeline([('scaler', StandardScaler()), ('poly', PolynomialFeatures(degree=degree)), \n",
    "                           ('sgd_logit', SGDClassifier(n_jobs=-1, random_state=17, alpha=alpha, max_iter=5))])\n",
    "    N_train, val_train, val_test = learning_curve(logit_pipe,\n",
    "                                                  X, y, train_sizes=train_sizes, cv=5,\n",
    "                                                  scoring='roc_auc')\n",
    "    plt.figure(figsize=(18,10))\n",
    "    plot_with_err(N_train, val_train, label='training scores')\n",
    "    plot_with_err(N_train, val_test, label='validation scores')\n",
    "    plt.xlabel('Training Set Size'); plt.ylabel('AUC')\n",
    "    plt.legend()\n",
    "    plt.grid(True);\n",
    "\n",
    "plot_learning_curve(degree=2, alpha=0.1)"
   ]
  },
  {
   "cell_type": "code",
   "execution_count": 18,
   "metadata": {},
   "outputs": [
    {
     "name": "stdout",
     "output_type": "stream",
     "text": [
      "              0           1           2           3          4           5   \\\n",
      "0    -220.530530  -70.197440  119.035181   20.711737  -6.152986   52.225051   \n",
      "1      -8.536541   -8.305435 -117.828269  -28.588333  14.223240  -42.087807   \n",
      "2     126.229973  133.463504 -105.511797 -149.110267  -3.673355 -104.302244   \n",
      "3     369.571563   11.850181 -299.969407   29.371721  -3.457523 -115.901854   \n",
      "4     -99.563708  -85.166292  -73.363391  -35.357907   5.437025  -54.892519   \n",
      "...          ...         ...         ...         ...        ...         ...   \n",
      "9995  -91.804097   96.380816  -93.520627   85.282425  -7.178058  -58.349354   \n",
      "9996 -232.083597  -60.861115   45.472736    5.731012  -7.987843   39.012270   \n",
      "9997 -182.455289  -73.963540 -221.763797  -96.181654  -4.056096 -121.460703   \n",
      "9998 -268.344148   53.342079 -176.197832   45.925889   9.604607   59.329437   \n",
      "9999 -766.308667 -136.240073   26.516587 -153.518440  -6.515163   86.701607   \n",
      "\n",
      "              6           7           8           10  ...         20  \\\n",
      "0     -23.230903 -166.521871  -41.571463  271.292251  ...  16.936420   \n",
      "1     -45.538664   58.898976   27.749744  -97.233793  ...  57.027508   \n",
      "2       5.815395  100.838385  -46.240211  194.054804  ...   4.819849   \n",
      "3     159.134323 -149.741411 -108.847522 -215.802195  ...  80.930568   \n",
      "4      56.430532  -49.237377  -50.054608 -115.997344  ...  31.682235   \n",
      "...          ...         ...         ...         ...  ...        ...   \n",
      "9995  233.433179   67.060275  100.601251  -82.546051  ...  29.122841   \n",
      "9996  -78.622327   77.938740    8.091318  107.862166  ...  86.281234   \n",
      "9997  -33.409815 -136.962854  204.767129 -202.054583  ... -23.305907   \n",
      "9998   67.922422   81.571360  -85.361397 -394.669287  ... -69.562156   \n",
      "9999  155.733257  238.601187  -27.854601  193.788408  ...  32.248595   \n",
      "\n",
      "              21          22          23          24         25        26  \\\n",
      "0      46.543585  -80.962171 -146.652218   10.899085   4.370985  4.060272   \n",
      "1     121.304258   31.507396   88.282912   66.766185  -4.363974 -5.791376   \n",
      "2      88.905713   51.475105  -73.257358  108.947287   8.567240  0.116269   \n",
      "3    -166.476192  -73.882682  108.222355   19.573192  -2.242024  0.515601   \n",
      "4     209.163125  -22.847302  -62.067337   58.109167   2.862082  0.920341   \n",
      "...          ...         ...         ...         ...        ...       ...   \n",
      "9995  418.328185   35.687836  -13.778557   19.527466   1.860720 -0.928468   \n",
      "9996  -29.944248   39.432925   89.389986  -51.332647  -3.602386  0.323119   \n",
      "9997  102.332041  -67.763884  -50.665547  -41.240901   1.876399  0.719234   \n",
      "9998   44.399330   42.172405   32.269383   39.902889   2.205488  4.073904   \n",
      "9999   71.169494  121.583149   27.046068 -130.540017 -12.519139 -1.647082   \n",
      "\n",
      "              27          28          29  \n",
      "0      40.680890  -37.942655   33.838225  \n",
      "1     -32.101939  -52.255449   -4.826111  \n",
      "2    -117.205053 -107.835928  -93.990332  \n",
      "3     -25.218215  121.674228  -16.877368  \n",
      "4    -132.875142    3.492953  -15.799596  \n",
      "...          ...         ...         ...  \n",
      "9995  100.397658  -83.305311 -132.648400  \n",
      "9996   35.417264  -66.463502    5.783203  \n",
      "9997  -55.564211 -207.574071   86.333468  \n",
      "9998   -7.932393    2.626694   78.433097  \n",
      "9999  152.856744  -68.890937   56.441209  \n",
      "\n",
      "[10000 rows x 29 columns]\n"
     ]
    }
   ],
   "source": [
    "X = data.drop(9, axis=1)\n",
    "print(X)"
   ]
  },
  {
   "cell_type": "code",
   "execution_count": 24,
   "metadata": {},
   "outputs": [
    {
     "name": "stdout",
     "output_type": "stream",
     "text": [
      "9000 1000\n",
      "Accuracy on training set: 0.828\n",
      "Accuracy on test set: 0.827\n",
      "AUC ROC:  0.8903051928028802\n"
     ]
    }
   ],
   "source": [
    "from sklearn import svm\n",
    "\n",
    "data = pd.read_csv('train.csv',\n",
    "                   header=None, names = range(30))\n",
    "test = pd.read_csv('test.csv',\n",
    "                   header=None, names = range(30))\n",
    "# getting some info about dataframe\n",
    "y = pd.read_csv('train-target.csv',\n",
    "                   header=None, names=['a'])\n",
    "\n",
    "X, y, Xtest = data.drop([9,15,16],axis=1).values, y.values, test.drop([9,15,16],axis=1).values\n",
    "\n",
    "\n",
    "X_train, X_test, y_train, y_test = train_test_split(X, y, test_size=0.1)\n",
    "\n",
    "logit_pipe = Pipeline([('scaler', StandardScaler()), \n",
    "                           ('lr_logit', LogisticRegression())])\n",
    "\n",
    "clf = logit_pipe.fit(X_train,y_train)\n",
    "print(y_train.size, y_test.size)\n",
    "\n",
    "print(\"Accuracy on training set:\", \n",
    "      round(logit_pipe.score(X_train, y_train), 3))\n",
    "\n",
    "print(\"Accuracy on test set:\", \n",
    "      round(logit_pipe. score(X_test, y_test), 3))\n",
    "\n",
    "score = roc_auc_score(y_test, logit_pipe.predict_proba(X_test)[:,1])\n",
    "print(\"AUC ROC: \",score)"
   ]
  },
  {
   "cell_type": "code",
   "execution_count": 26,
   "metadata": {},
   "outputs": [
    {
     "data": {
      "image/png": "[encoded data removed]",
      "text/plain": [
       "<Figure size 1080x360 with 1 Axes>"
      ]
     },
     "metadata": {
      "needs_background": "light"
     },
     "output_type": "display_data"
    }
   ],
   "source": [
    "def visualize_coefficients(classifier, feature_names, n_top_features=25):\n",
    "    # get coefficients with large absolute values \n",
    "    coef = classifier.coef_.ravel()\n",
    "    positive_coefficients = np.argsort(coef)[-n_top_features:]\n",
    "    negative_coefficients = np.argsort(coef)[:n_top_features]\n",
    "    interesting_coefficients = np.hstack([negative_coefficients, positive_coefficients])\n",
    "    # plot them\n",
    "    plt.figure(figsize=(15, 5))\n",
    "    colors = [\"red\" if c < 0 else \"blue\" for c in coef[interesting_coefficients]]\n",
    "    plt.bar(np.arange(2 * n_top_features), coef[interesting_coefficients], color=colors)\n",
    "    feature_names = np.array(feature_names)\n",
    "    plt.xticks(np.arange(1, 1 + 2 * n_top_features), feature_names[interesting_coefficients], rotation=60, ha=\"right\");\n",
    "\n",
    "visualize_coefficients(logit_pipe['lr_logit'], range(30))"
   ]
  },
  {
   "cell_type": "code",
   "execution_count": null,
   "metadata": {},
   "outputs": [],
   "source": [
    "print(y_test, logit_pipe.predict(X_test))"
   ]
  },
  {
   "cell_type": "code",
   "execution_count": 25,
   "metadata": {},
   "outputs": [
    {
     "name": "stdout",
     "output_type": "stream",
     "text": [
      "[[3.97134309e-03 9.96028657e-01]\n",
      " [5.30564660e-06 9.99994694e-01]\n",
      " [1.71433978e-11 1.00000000e+00]\n",
      " ...\n",
      " [1.58095759e-13 1.00000000e+00]\n",
      " [1.00000000e+00 6.96101408e-13]\n",
      " [9.99999776e-01 2.24255585e-07]] 2000\n"
     ]
    }
   ],
   "source": [
    "test_target = logit_pipe.predict_proba(Xtest)\n",
    "print(test_target, test_target[:,1].size)\n",
    "np.savetxt('test-target.csv',test_target[:,1], fmt='%.15f', delimiter='\\n')"
   ]
  },
  {
   "cell_type": "code",
   "execution_count": null,
   "metadata": {},
   "outputs": [],
   "source": [
    "print(test_target)\n",
    "print(test_target[:,1].size)\n",
    "np.savetxt('test-target.csv',test_target[:,1], fmt='%.15f', delimiter='\\n')"
   ]
  },
  {
   "cell_type": "code",
   "execution_count": null,
   "metadata": {},
   "outputs": [],
   "source": []
  },
  {
   "cell_type": "code",
   "execution_count": null,
   "metadata": {},
   "outputs": [],
   "source": [
    "from sklearn.calibration import CalibratedClassifierCV\n",
    "calibrator = CalibratedClassifierCV(clf, cv='prefit')\n",
    "model=calibrator.fit(X_train, y_train)\n",
    "\n",
    "test_target = model.predict_proba(Xtest)\n",
    "print(test_target[:,1].size)\n",
    "np.savetxt('test-target.csv',test_target[:,1], fmt='%.15f', delimiter='\\n')"
   ]
  },
  {
   "cell_type": "code",
   "execution_count": null,
   "metadata": {},
   "outputs": [],
   "source": [
    "# подгружаем все нужные пакеты\n",
    "import pandas as pd\n",
    "import numpy as np\n",
    "\n",
    "\n",
    "# для встроенных картинок\n",
    "%pylab inline\n",
    "# чуть покрасивше картинки:\n",
    "#pd.set_option('display.mpl_style', 'default')\n",
    "figsize(12, 9)\n",
    "\n",
    "import warnings\n",
    "warnings.filterwarnings(\"ignore\")\n",
    "\n",
    "#plt.rcParams['figure.figsize'] = 10, 7.5\n",
    "#plt.rcParams['axes.grid'] = True\n",
    "pd.set_option('display.max_columns', None)\n",
    "import matplotlib.pyplot as plt\n",
    "\n",
    "import matplotlib as mpl\n",
    "mpl.rcParams['font.family'] = 'Vernada' # Ubuntu\n",
    "\n",
    "plt.rc('text', usetex=False)\n",
    "plt.rc('font', family='serif')\n",
    "plt.rc('font', weight='bold')\n",
    "plt.rc('xtick', labelsize=14) \n",
    "plt.rc('ytick', labelsize=14)\n",
    "\n",
    "# чтобы был русский шрифт\n",
    "from matplotlib import rc\n",
    " \n",
    "font = {'family': 'Vernada', #Droid Sans\n",
    "        'weight': 'normal'}\n",
    "rc('font', **font)\n"
   ]
  },
  {
   "cell_type": "code",
   "execution_count": null,
   "metadata": {},
   "outputs": [],
   "source": [
    "from sklearn.base import BaseEstimator, ClassifierMixin\n",
    "from sklearn.model_selection import train_test_split\n",
    "from sklearn.model_selection import cross_val_predict\n",
    "\n",
    "class DjStacking(BaseEstimator, ClassifierMixin):  \n",
    "    \"\"\"Стэкинг моделей scikit-learn\"\"\"\n",
    "\n",
    "    def __init__(self, models, ens_model):\n",
    "        \"\"\"\n",
    "        Инициализация\n",
    "        models - базовые модели для стекинга\n",
    "        ens_model - мета-модель\n",
    "        \"\"\"\n",
    "        self.models = models\n",
    "        self.ens_model = ens_model\n",
    "        self.n = len(models)\n",
    "        self.valid = None\n",
    "        \n",
    "    def fit(self, X, y=None, p=0.25, cv=3, err=0.001, random_state=None):\n",
    "        \"\"\"\n",
    "        Обучение стекинга\n",
    "        p - в каком отношении делить на обучение / тест\n",
    "            если p = 0 - используем всё обучение!\n",
    "        cv  (при p=0) - сколько фолдов использовать\n",
    "        err (при p=0) - величина случайной добавки к метапризнакам\n",
    "        random_state - инициализация генератора\n",
    "            \n",
    "        \"\"\"\n",
    "        if (p > 0): # делим на обучение и тест\n",
    "            # разбиение на обучение моделей и метамодели\n",
    "            train, valid, y_train, y_valid = train_test_split(X, y, test_size=p, random_state=random_state)\n",
    "            \n",
    "            # заполнение матрицы для обучения метамодели\n",
    "            self.valid = np.zeros((valid.shape[0], self.n))\n",
    "            for t, clf in enumerate(self.models):\n",
    "                clf.fit(train, y_train)\n",
    "                self.valid[:, t] = clf.predict(valid)\n",
    "                \n",
    "            # обучение метамодели\n",
    "            self.ens_model.fit(self.valid, y_valid)\n",
    "            \n",
    "        else: # используем всё обучение\n",
    "            \n",
    "            # для регуляризации - берём случайные добавки\n",
    "            self.valid = err*np.random.randn(X.shape[0], self.n)\n",
    "            \n",
    "            for t, clf in enumerate(self.models):\n",
    "                # это oob-ответы алгоритмов\n",
    "                self.valid[:, t] += cross_val_predict(clf, X, y, cv=cv, n_jobs=-1, method='predict')\n",
    "                # но сам алгоритм надо настроить\n",
    "                clf.fit(X, y)\n",
    "            \n",
    "            # обучение метамодели\n",
    "            self.ens_model.fit(self.valid, y)  \n",
    "            \n",
    "\n",
    "        return self\n",
    "    \n",
    "\n",
    "\n",
    "    def predict(self, X, y=None):\n",
    "        \"\"\"\n",
    "        Работа стэкинга\n",
    "        \"\"\"\n",
    "        # заполение матрицы для мета-классификатора\n",
    "        X_meta = np.zeros((X.shape[0], self.n))\n",
    "        \n",
    "        for t, clf in enumerate(self.models):\n",
    "            X_meta[:, t] = clf.predict(X)\n",
    "        \n",
    "        a = self.ens_model.predict(X_meta)\n",
    "        \n",
    "        return (a)"
   ]
  }
 ],
 "metadata": {
  "kernelspec": {
   "display_name": "Python 3",
   "language": "python",
   "name": "python3"
  },
  "language_info": {
   "codemirror_mode": {
    "name": "ipython",
    "version": 3
   },
   "file_extension": ".py",
   "mimetype": "text/x-python",
   "name": "python",
   "nbconvert_exporter": "python",
   "pygments_lexer": "ipython3",
   "version": "3.7.5"
  }
 },
 "nbformat": 4,
 "nbformat_minor": 2
}
